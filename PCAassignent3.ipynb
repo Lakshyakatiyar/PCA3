{
 "cells": [
  {
   "cell_type": "markdown",
   "id": "8d0b614b-2cdb-4bf2-8b4d-63b10cc1aa7f",
   "metadata": {},
   "source": [
    "Eigenvalues and Eigenvectors are concepts in linear algebra. Given a square matrix \n",
    "A, an eigenvector \n",
    "v and its corresponding eigenvalue \n",
    "λ satisfy the equation:\n",
    "=\n",
    "Av=λv\n",
    "In other words, when a matrix \n",
    "A is multiplied by its eigenvector \n",
    "v, the result is a scaled version of the original eigenvector. Eigen-Decomposition is a method that decomposes a matrix into its eigenvectors and eigenvalues."
   ]
  },
  {
   "cell_type": "markdown",
   "id": "9c4c5f80-711c-49a6-936a-25e2a1c24fd4",
   "metadata": {},
   "source": [
    "2.Eigen decomposition is a process of decomposing a square matrix into its eigenvectors and eigenvalues. It is significant in linear algebra because it provides insights into the behavior of linear transformations represented by matrices."
   ]
  },
  {
   "cell_type": "markdown",
   "id": "45528271-d65a-4355-9e84-9b60243e8aac",
   "metadata": {},
   "source": [
    "For a square matrix \n",
    "A to be diagonalizable using the Eigen-Decomposition approach, it must have \n",
    "n linearly independent eigenvectors, where \n",
    "n is the size of the matrix. The proof involves verifying that there are enough linearly independent eigenvectors to form a basis for the vector space."
   ]
  },
  {
   "cell_type": "markdown",
   "id": "bcee3c85-8c9c-45ea-b8a3-cee40b18c137",
   "metadata": {},
   "source": [
    "4.The spectral theorem states that for a symmetric matrix, all eigenvalues are real, and the eigenvectors corresponding to distinct eigenvalues are orthogonal. This theorem is significant in Eigen-Decomposition because it guarantees the existence of real eigenvalues and orthogonal eigenvectors for symmetric matrices, facilitating their diagonalization."
   ]
  },
  {
   "cell_type": "markdown",
   "id": "4485416c-9fbf-417d-934b-e110d8c28749",
   "metadata": {},
   "source": [
    "5.Eigenvalues can be found by solving the characteristic equation \n",
    "det(A−λI)=0, where \n",
    "A is the matrix, \n",
    "λ is the eigenvalue, and \n",
    "I is the identity matrix.\n",
    "\n"
   ]
  },
  {
   "cell_type": "markdown",
   "id": "6c607cff-e838-4eb2-a03c-cd411e95cfd0",
   "metadata": {},
   "source": [
    "6.Eigenvectors are vectors that, when transformed by a matrix, are scaled by a scalar factor known as the eigenvalue. They represent the directions along which the transformation represented by the matrix has a simple behavior."
   ]
  },
  {
   "cell_type": "markdown",
   "id": "279c3244-548b-4ba1-aa69-6162eaa55175",
   "metadata": {},
   "source": [
    "7.Geometrically, eigenvectors represent directions in space that remain unchanged (up to scaling) when transformed by the matrix. Eigenvalues represent the scaling factors by which the eigenvectors are stretched or compressed."
   ]
  },
  {
   "cell_type": "code",
   "execution_count": null,
   "id": "8c0d3967-6c0a-4eb9-a0bb-190c8fc440c7",
   "metadata": {},
   "outputs": [],
   "source": [
    "8."
   ]
  }
 ],
 "metadata": {
  "kernelspec": {
   "display_name": "Python 3 (ipykernel)",
   "language": "python",
   "name": "python3"
  },
  "language_info": {
   "codemirror_mode": {
    "name": "ipython",
    "version": 3
   },
   "file_extension": ".py",
   "mimetype": "text/x-python",
   "name": "python",
   "nbconvert_exporter": "python",
   "pygments_lexer": "ipython3",
   "version": "3.10.8"
  }
 },
 "nbformat": 4,
 "nbformat_minor": 5
}
